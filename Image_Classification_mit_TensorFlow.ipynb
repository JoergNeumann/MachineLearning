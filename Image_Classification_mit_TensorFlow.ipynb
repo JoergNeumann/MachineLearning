{
  "nbformat": 4,
  "nbformat_minor": 0,
  "metadata": {
    "colab": {
      "name": "Image Classification mit TensorFlow.ipynb",
      "provenance": [],
      "authorship_tag": "ABX9TyOda+1+QIi9RZFWK85ssVOi",
      "include_colab_link": true
    },
    "kernelspec": {
      "name": "python3",
      "display_name": "Python 3"
    }
  },
  "cells": [
    {
      "cell_type": "markdown",
      "metadata": {
        "id": "view-in-github",
        "colab_type": "text"
      },
      "source": [
        "<a href=\"https://colab.research.google.com/github/JoergNeumann/MachineLearning/blob/master/Image_Classification_mit_TensorFlow.ipynb\" target=\"_parent\"><img src=\"https://colab.research.google.com/assets/colab-badge.svg\" alt=\"Open In Colab\"/></a>"
      ]
    },
    {
      "cell_type": "markdown",
      "metadata": {
        "id": "grIHBAoUoSZ7",
        "colab_type": "text"
      },
      "source": [
        "# Image Classification mit TensorFlow\n",
        "basierend auf [Google Tutorial](https://colab.research.google.com/github/tensorflow/docs/blob/master/site/en/tutorials/keras/classification.ipynb#scrollTo=Gxg1XGm0eOBy)\n",
        "\n",
        "### Fashion MNIST Dataset\n",
        "* besteht aus 70k Graustufenbildern aus 10 Kategorien\n",
        "* jedes Bild ist 28 x 28 Pixel groß / jedes Pixel hat einen Wert zwischen 0 und 255\n",
        "* Labels bestehen aus Zahlen zwischen 0 und 9"
      ]
    },
    {
      "cell_type": "markdown",
      "metadata": {
        "id": "sxRbjyO7rVdi",
        "colab_type": "text"
      },
      "source": [
        "![Fashion MNIST Dataset](https://www.tensorflow.org/tutorials/keras/classification_files/output_oZTImqg_CaW1_0.png)"
      ]
    },
    {
      "cell_type": "markdown",
      "metadata": {
        "id": "LTMHvM0csKNe",
        "colab_type": "text"
      },
      "source": [
        "### Libs importieren"
      ]
    },
    {
      "cell_type": "code",
      "metadata": {
        "id": "EA7vurWHoPoo",
        "colab_type": "code",
        "colab": {}
      },
      "source": [
        "import tensorflow as tf\n",
        "from tensorflow import keras\n",
        "import numpy as np\n",
        "import matplotlib.pyplot as plt"
      ],
      "execution_count": 1,
      "outputs": []
    },
    {
      "cell_type": "markdown",
      "metadata": {
        "id": "ZZpYb1F5pSJD",
        "colab_type": "text"
      },
      "source": [
        "### Daten importieren und aufbereiten"
      ]
    },
    {
      "cell_type": "code",
      "metadata": {
        "id": "OT_JvIHFph9I",
        "colab_type": "code",
        "colab": {}
      },
      "source": [
        "# Trainings- und Test-Datasets (60k/10k), bestehend jeweils aus Labels und Images\n",
        "fashion_mnist = keras.datasets.fashion_mnist\n",
        "(train_images, train_labels), (test_images, test_labels) = fashion_mnist.load_data()\n",
        "\n",
        "# Pixel in Werte zwischen 0 und 1 konvertieren\n",
        "train_images = train_images / 255.0\n",
        "test_images = test_images / 255.0\n",
        "\n",
        "# Array mit Kategorien anlegen\n",
        "class_names = ['T-shirt/top', 'Trouser', 'Pullover', 'Dress', 'Coat',\n",
        "               'Sandal', 'Shirt', 'Sneaker', 'Bag', 'Ankle boot']"
      ],
      "execution_count": 13,
      "outputs": []
    },
    {
      "cell_type": "markdown",
      "metadata": {
        "id": "DfNT1MPCprV4",
        "colab_type": "text"
      },
      "source": [
        "\n",
        "### Layers definieren"
      ]
    },
    {
      "cell_type": "code",
      "metadata": {
        "id": "L71QWIRxp0hC",
        "colab_type": "code",
        "colab": {}
      },
      "source": [
        "model = keras.Sequential([\n",
        "    keras.layers.Flatten(input_shape=(28, 28)),\n",
        "    keras.layers.Dense(128, activation='relu'),\n",
        "    keras.layers.Dense(10)\n",
        "])"
      ],
      "execution_count": 3,
      "outputs": []
    },
    {
      "cell_type": "markdown",
      "metadata": {
        "id": "DC8_OCW_p8e3",
        "colab_type": "text"
      },
      "source": [
        "* Flatten macht aus einem mehrdimensionalen Array ein eindimensionales\n",
        "* Dense: Ein Layer der \"dicht\" verbunden (fully connected) ist. Alle Neuronen sind mit allen Neuronen des nächsten Layers verbunden.\n",
        "* der Hidden Layer hat 128 Knoten oder Neuronen\n",
        "* die Aktivierungsfunktion ist ReLU (Rectified Linear Unit)\n",
        "* der Output Layer hat 10 Neuronen (analog zu den 10 Kategorien)"
      ]
    },
    {
      "cell_type": "markdown",
      "metadata": {
        "id": "wen_hfhaqCgY",
        "colab_type": "text"
      },
      "source": [
        "### Modell kompilieren\n",
        "* Loss Funktion: Misst die Abweichung zum Ziel\n",
        "* Optimizer Funktion: Aktualisiert das Modell (die Gewichte) auf Basis der Loss Funktion.\n",
        "* Metrics: Zur Kontrolle von Trainings und Testwerten; in diesem Fall \"accuracy\""
      ]
    },
    {
      "cell_type": "code",
      "metadata": {
        "id": "THdocqlgqPPU",
        "colab_type": "code",
        "colab": {}
      },
      "source": [
        "model.compile(optimizer='adam',\n",
        "              loss=tf.keras.losses.SparseCategoricalCrossentropy(from_logits=True),\n",
        "              metrics=['accuracy'])"
      ],
      "execution_count": 4,
      "outputs": []
    },
    {
      "cell_type": "markdown",
      "metadata": {
        "id": "7DKRGD_KqRMw",
        "colab_type": "text"
      },
      "source": [
        "### Modell trainieren\n",
        "* mit 10 Epochs (Iterationen)"
      ]
    },
    {
      "cell_type": "code",
      "metadata": {
        "id": "Kkmxf4_jqYxe",
        "colab_type": "code",
        "colab": {
          "base_uri": "https://localhost:8080/",
          "height": 386
        },
        "outputId": "f4e9c039-8089-4bb5-fcf3-0bb3f8cfd8c6"
      },
      "source": [
        "model.fit(train_images, train_labels, epochs=10)"
      ],
      "execution_count": 5,
      "outputs": [
        {
          "output_type": "stream",
          "text": [
            "Epoch 1/10\n",
            "1875/1875 [==============================] - 4s 2ms/step - loss: 0.5032 - accuracy: 0.8237\n",
            "Epoch 2/10\n",
            "1875/1875 [==============================] - 3s 2ms/step - loss: 0.3776 - accuracy: 0.8643\n",
            "Epoch 3/10\n",
            "1875/1875 [==============================] - 4s 2ms/step - loss: 0.3413 - accuracy: 0.8766\n",
            "Epoch 4/10\n",
            "1875/1875 [==============================] - 3s 2ms/step - loss: 0.3151 - accuracy: 0.8846\n",
            "Epoch 5/10\n",
            "1875/1875 [==============================] - 3s 2ms/step - loss: 0.2982 - accuracy: 0.8904\n",
            "Epoch 6/10\n",
            "1875/1875 [==============================] - 3s 2ms/step - loss: 0.2839 - accuracy: 0.8951\n",
            "Epoch 7/10\n",
            "1875/1875 [==============================] - 3s 2ms/step - loss: 0.2700 - accuracy: 0.9005\n",
            "Epoch 8/10\n",
            "1875/1875 [==============================] - 3s 2ms/step - loss: 0.2603 - accuracy: 0.9037\n",
            "Epoch 9/10\n",
            "1875/1875 [==============================] - 3s 2ms/step - loss: 0.2493 - accuracy: 0.9082\n",
            "Epoch 10/10\n",
            "1875/1875 [==============================] - 4s 2ms/step - loss: 0.2399 - accuracy: 0.9111\n"
          ],
          "name": "stdout"
        },
        {
          "output_type": "execute_result",
          "data": {
            "text/plain": [
              "<tensorflow.python.keras.callbacks.History at 0x7fcf8d5530b8>"
            ]
          },
          "metadata": {
            "tags": []
          },
          "execution_count": 5
        }
      ]
    },
    {
      "cell_type": "markdown",
      "metadata": {
        "id": "L5_6WXdoqbsv",
        "colab_type": "text"
      },
      "source": [
        "### Modell evaluieren (bewerten)"
      ]
    },
    {
      "cell_type": "code",
      "metadata": {
        "id": "Z9cS4n5pqeRO",
        "colab_type": "code",
        "colab": {
          "base_uri": "https://localhost:8080/",
          "height": 70
        },
        "outputId": "fb8cc8fa-9a54-49b3-82cc-05c23053f74e"
      },
      "source": [
        "test_loss, test_acc = model.evaluate(test_images,  test_labels, verbose=2)\n",
        "print('\\nTest accuracy:', test_acc)"
      ],
      "execution_count": 6,
      "outputs": [
        {
          "output_type": "stream",
          "text": [
            "313/313 - 0s - loss: 0.3328 - accuracy: 0.8817\n",
            "\n",
            "Test accuracy: 0.8816999793052673\n"
          ],
          "name": "stdout"
        }
      ]
    },
    {
      "cell_type": "markdown",
      "metadata": {
        "id": "61Ok57cyqhaC",
        "colab_type": "text"
      },
      "source": [
        "### Vorhersagen machen\n",
        "* Das Modell gibt Logits aus - Vektoren von Wahrscheinlichkeiten.\n",
        "* Diese müssen in einzelne Werte konvertiert werden\n",
        "* Hierzu wird ein Softmax Layer dem Modell hinzugefügt werden"
      ]
    },
    {
      "cell_type": "code",
      "metadata": {
        "id": "Utw7zceWqkBT",
        "colab_type": "code",
        "colab": {}
      },
      "source": [
        "probability_model = tf.keras.Sequential([model, \n",
        "                                         tf.keras.layers.Softmax()])\n",
        "predictions = probability_model.predict(test_images)"
      ],
      "execution_count": 8,
      "outputs": []
    },
    {
      "cell_type": "markdown",
      "metadata": {
        "id": "NPUIjXSZql5Q",
        "colab_type": "text"
      },
      "source": [
        "### Ergebnis auswerten\n"
      ]
    },
    {
      "cell_type": "code",
      "metadata": {
        "id": "rAzWKSaCqsnb",
        "colab_type": "code",
        "colab": {
          "base_uri": "https://localhost:8080/",
          "height": 283
        },
        "outputId": "4a26bf41-c1e1-4f30-89bf-60398421ed1d"
      },
      "source": [
        "# Ein Element aus dem predictions Array enthält ein Array aus 10 Nummern, die die Wahrscheinlichkeit je Kategorie wiedergeben\n",
        "predictions[0]\n",
        "# Ermitteln welche Kategorie die höchste Wahrscheinlichkeit hat\n",
        "np.argmax(predictions[0])\n",
        "# Überprüfen der Richtigkeit\n",
        "i = test_labels[0]\n",
        "# Zum Vergleich Bild und ermittelte Kategorie ausgeben\n",
        "plt.imshow(test_images[0])\n",
        "class_names[i]"
      ],
      "execution_count": 22,
      "outputs": [
        {
          "output_type": "execute_result",
          "data": {
            "application/vnd.google.colaboratory.intrinsic": {
              "type": "string"
            },
            "text/plain": [
              "'Ankle boot'"
            ]
          },
          "metadata": {
            "tags": []
          },
          "execution_count": 22
        },
        {
          "output_type": "display_data",
          "data": {
            "image/png": "[encoded data removed]",
            "text/plain": [
              "<Figure size 432x288 with 1 Axes>"
            ]
          },
          "metadata": {
            "tags": [],
            "needs_background": "light"
          }
        }
      ]
    },
    {
      "cell_type": "markdown",
      "metadata": {
        "id": "V2mHJ1-FrFgs",
        "colab_type": "text"
      },
      "source": [
        "### Einzelnes Bild klassifizieren\n",
        "* Hierzu muss das Bild in eine Liste aufgenommen werden"
      ]
    },
    {
      "cell_type": "code",
      "metadata": {
        "id": "63uGCUDarHbW",
        "colab_type": "code",
        "colab": {
          "base_uri": "https://localhost:8080/",
          "height": 283
        },
        "outputId": "a01f9e13-8c11-4f99-d0d8-99ed3ab627e6"
      },
      "source": [
        "img = (np.expand_dims(test_images[1],0))\n",
        "predictions_single = probability_model.predict(img)\n",
        "i = np.argmax(predictions_single[0])\n",
        "plt.imshow(test_images[1])\n",
        "class_names[i]"
      ],
      "execution_count": 16,
      "outputs": [
        {
          "output_type": "execute_result",
          "data": {
            "application/vnd.google.colaboratory.intrinsic": {
              "type": "string"
            },
            "text/plain": [
              "'Pullover'"
            ]
          },
          "metadata": {
            "tags": []
          },
          "execution_count": 16
        },
        {
          "output_type": "display_data",
          "data": {
            "image/png": "[encoded data removed]",
            "text/plain": [
              "<Figure size 432x288 with 1 Axes>"
            ]
          },
          "metadata": {
            "tags": [],
            "needs_background": "light"
          }
        }
      ]
    }
  ]
}